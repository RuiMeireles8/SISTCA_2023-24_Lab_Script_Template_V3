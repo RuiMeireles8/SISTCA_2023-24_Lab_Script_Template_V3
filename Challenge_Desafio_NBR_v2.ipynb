{
 "cells": [
  {
   "cell_type": "markdown",
   "id": "5a116af5",
   "metadata": {},
   "source": [
    "# Challenge 6.0"
   ]
  },
  {
   "cell_type": "markdown",
   "id": "21281d67",
   "metadata": {},
   "source": [
    "This notebook aims to respond to point `6.0` of the script `SISTCA_2023-24_Lab_Script_Template_V3_19May2024`."
   ]
  },
  {
   "cell_type": "markdown",
   "id": "0c6b7a59",
   "metadata": {},
   "source": [
    "Based on the previous exercises, the challenge is to choose a region of the globe and process the satellite data. It is proposed that a map of the evolution of a forest fire in a region of Brazil be obtained, for example obtaining the difference between a dataset at an instant before the fire happened and a dataset after it happened. The satellite data is available at [Brasil Data Cube](https://data.inpe.br/bdc/web/)."
   ]
  },
  {
   "cell_type": "markdown",
   "id": "a6d12ecb",
   "metadata": {},
   "source": [
    "Installing Packages and Dependencies"
   ]
  },
  {
   "cell_type": "code",
   "execution_count": 1,
   "id": "471eeab6",
   "metadata": {},
   "outputs": [],
   "source": [
    "import pystac_client"
   ]
  },
  {
   "cell_type": "code",
   "execution_count": 2,
   "id": "ff60dcf1",
   "metadata": {},
   "outputs": [],
   "source": [
    "from wtss import *"
   ]
  },
  {
   "cell_type": "code",
   "execution_count": 3,
   "id": "01a96c6f",
   "metadata": {},
   "outputs": [],
   "source": [
    "import numpy "
   ]
  },
  {
   "cell_type": "code",
   "execution_count": 4,
   "id": "e1fc10ad",
   "metadata": {},
   "outputs": [],
   "source": [
    "%matplotlib inline\n",
    "from matplotlib import pyplot as plt"
   ]
  },
  {
   "cell_type": "code",
   "execution_count": 5,
   "id": "fa89dc88",
   "metadata": {},
   "outputs": [],
   "source": [
    "import rasterio\n",
    "from rasterio.crs import CRS\n",
    "from rasterio.warp import transform\n",
    "from rasterio.windows import from_bounds"
   ]
  },
  {
   "cell_type": "markdown",
   "id": "461b9256",
   "metadata": {},
   "source": [
    "Connection to the Brazil Data Cube API"
   ]
  },
  {
   "cell_type": "markdown",
   "id": "9f5480a0",
   "metadata": {},
   "source": [
    "To perform the necessary operations, you must use the `pystac_client` API. To find out all about its features, you can consult [STAC client for Python](https://github.com/brazil-data-cube/stac.py)."
   ]
  },
  {
   "cell_type": "code",
   "execution_count": 6,
   "id": "991a6c9c",
   "metadata": {},
   "outputs": [],
   "source": [
    "# function imported from Brazil Data Cube's GitHub repository\n",
    "\n",
    "def read(uri: str, bbox: list, masked: bool = True, crs: str = None):\n",
    "    \"\"\"Read raster window as numpy.ma.masked_array.\"\"\"\n",
    "    source_crs = CRS.from_string('EPSG:4326')\n",
    "    if crs:\n",
    "        source_crs = CRS.from_string(crs)\n",
    "\n",
    "    # Expects the bounding box has 4 values\n",
    "    w, s, e, n = bbox\n",
    "        \n",
    "    with rasterio.open(uri) as dataset:\n",
    "        transformer = transform(source_crs, dataset.crs, [w, e], [s, n])\n",
    "        window = from_bounds(transformer[0][0], transformer[1][0], \n",
    "                             transformer[0][1], transformer[1][1], dataset.transform)\n",
    "        return dataset.read(1, window=window, masked=masked)\n",
    "    "
   ]
  },
  {
   "cell_type": "code",
   "execution_count": 7,
   "id": "13a6dc77",
   "metadata": {},
   "outputs": [],
   "source": [
    "# function imported from Brazil Data Cube's GitHub repository\n",
    "\n",
    "def normalize(array):\n",
    "    \"\"\"Normalizes numpy arrays into scale 0.0 - 1.0\"\"\"\n",
    "    array_min, array_max = array.min(), array.max()\n",
    "    return ((array - array_min)/(array_max - array_min))"
   ]
  },
  {
   "cell_type": "code",
   "execution_count": 8,
   "id": "7ccd1537",
   "metadata": {},
   "outputs": [],
   "source": [
    "token = 'r5p7J7kpqIbnPY47jX4i8YfaVcKq7iPFsO3nQQ6OpF' # Change token"
   ]
  },
  {
   "cell_type": "code",
   "execution_count": 9,
   "id": "2c193514",
   "metadata": {},
   "outputs": [],
   "source": [
    "parameters = dict(access_token=token) # Change token\n",
    "service_STAC = pystac_client.Client.open('https://brazildatacube.dpi.inpe.br/stac/', parameters=parameters)"
   ]
  },
  {
   "cell_type": "code",
   "execution_count": 10,
   "id": "95f60099",
   "metadata": {},
   "outputs": [],
   "source": [
    "service_WTSS = WTSS('https://brazildatacube.dpi.inpe.br/', \n",
    "               access_token=token) # Change token\n",
    "\n",
    "# We only connect to the WTSS service because the API for listing available bands"
   ]
  },
  {
   "cell_type": "markdown",
   "id": "11705d69",
   "metadata": {},
   "source": [
    "List All Available Bands and Timelines on Sentinel 2"
   ]
  },
  {
   "cell_type": "code",
   "execution_count": 11,
   "id": "156127c1",
   "metadata": {},
   "outputs": [],
   "source": [
    "satelite = 'S2-16D-2'  "
   ]
  },
  {
   "cell_type": "code",
   "execution_count": 12,
   "id": "178b2af9",
   "metadata": {},
   "outputs": [
    {
     "data": {
      "text/html": [
       "<div>\n",
       "    <div>\n",
       "        <b>Coverage</b> S2-16D-2\n",
       "    </div>\n",
       "    <br/>\n",
       "    <div>\n",
       "        <b>Description:</b> This datacube was generated with all available surface reflectance images processed using Sen2cor. The data is provided with 10 meters of spatial resolution, reprojected and cropped to BDC_SM grid Version 2 (BDC_SM V2), considering a temporal compositing function of 16 days using the Least Cloud Cover First (LCF) best pixel approach.\n",
       "    </div>\n",
       "    <br/>\n",
       "    <div>\n",
       "        <b>Attributes</b>\n",
       "    </div>\n",
       "    <div>\n",
       "        <table>\n",
       "            <tr>\n",
       "            </tr>\n",
       "            <tr>\n",
       "                <th>name</th>\n",
       "                <th>common name</th>\n",
       "                <th>description</th>\n",
       "                <th>datatype</th>\n",
       "                <th>valid range</th>\n",
       "                <th>scale</th>\n",
       "                <th>nodata</th>\n",
       "            </tr>\n",
       "            <tr>\n",
       "                <td>B12</td>\n",
       "                <td>swir22</td>\n",
       "                <td></td>\n",
       "                <td>int16</td>\n",
       "                <td>{&#39;min&#39;: 0.0, &#39;max&#39;: 10000.0}</td>\n",
       "                <td>0.0001</td>\n",
       "                <td>0.0</td>\n",
       "            </tr><tr>\n",
       "                <td>SCL</td>\n",
       "                <td>quality</td>\n",
       "                <td></td>\n",
       "                <td>uint8</td>\n",
       "                <td>{&#39;min&#39;: 0.0, &#39;max&#39;: 11.0}</td>\n",
       "                <td>1.0</td>\n",
       "                <td>0.0</td>\n",
       "            </tr><tr>\n",
       "                <td>CLEAROB</td>\n",
       "                <td>ClearOb</td>\n",
       "                <td>Clear Observation Count</td>\n",
       "                <td>uint8</td>\n",
       "                <td>{&#39;min&#39;: 1.0, &#39;max&#39;: 255.0}</td>\n",
       "                <td>1.0</td>\n",
       "                <td>0.0</td>\n",
       "            </tr><tr>\n",
       "                <td>NDVI</td>\n",
       "                <td>ndvi</td>\n",
       "                <td></td>\n",
       "                <td>int16</td>\n",
       "                <td>{&#39;min&#39;: -10000.0, &#39;max&#39;: 10000.0}</td>\n",
       "                <td>0.0001</td>\n",
       "                <td>-9999.0</td>\n",
       "            </tr><tr>\n",
       "                <td>NBR</td>\n",
       "                <td>nbr</td>\n",
       "                <td></td>\n",
       "                <td>int16</td>\n",
       "                <td>{&#39;min&#39;: -10000.0, &#39;max&#39;: 10000.0}</td>\n",
       "                <td>0.0001</td>\n",
       "                <td>-9999.0</td>\n",
       "            </tr><tr>\n",
       "                <td>EVI</td>\n",
       "                <td>evi</td>\n",
       "                <td>Enhanced Vegetation Index</td>\n",
       "                <td>int16</td>\n",
       "                <td>{&#39;min&#39;: -10000.0, &#39;max&#39;: 10000.0}</td>\n",
       "                <td>0.0001</td>\n",
       "                <td>-9999.0</td>\n",
       "            </tr><tr>\n",
       "                <td>B01</td>\n",
       "                <td>coastal</td>\n",
       "                <td></td>\n",
       "                <td>int16</td>\n",
       "                <td>{&#39;min&#39;: 0.0, &#39;max&#39;: 10000.0}</td>\n",
       "                <td>0.0001</td>\n",
       "                <td>0.0</td>\n",
       "            </tr><tr>\n",
       "                <td>B02</td>\n",
       "                <td>blue</td>\n",
       "                <td></td>\n",
       "                <td>int16</td>\n",
       "                <td>{&#39;min&#39;: 0.0, &#39;max&#39;: 10000.0}</td>\n",
       "                <td>0.0001</td>\n",
       "                <td>0.0</td>\n",
       "            </tr><tr>\n",
       "                <td>B03</td>\n",
       "                <td>green</td>\n",
       "                <td></td>\n",
       "                <td>int16</td>\n",
       "                <td>{&#39;min&#39;: 0.0, &#39;max&#39;: 10000.0}</td>\n",
       "                <td>0.0001</td>\n",
       "                <td>0.0</td>\n",
       "            </tr><tr>\n",
       "                <td>B04</td>\n",
       "                <td>red</td>\n",
       "                <td></td>\n",
       "                <td>int16</td>\n",
       "                <td>{&#39;min&#39;: 0.0, &#39;max&#39;: 10000.0}</td>\n",
       "                <td>0.0001</td>\n",
       "                <td>0.0</td>\n",
       "            </tr><tr>\n",
       "                <td>B05</td>\n",
       "                <td>rededge</td>\n",
       "                <td></td>\n",
       "                <td>int16</td>\n",
       "                <td>{&#39;min&#39;: 0.0, &#39;max&#39;: 10000.0}</td>\n",
       "                <td>0.0001</td>\n",
       "                <td>0.0</td>\n",
       "            </tr><tr>\n",
       "                <td>B06</td>\n",
       "                <td>rededge</td>\n",
       "                <td></td>\n",
       "                <td>int16</td>\n",
       "                <td>{&#39;min&#39;: 0.0, &#39;max&#39;: 10000.0}</td>\n",
       "                <td>0.0001</td>\n",
       "                <td>0.0</td>\n",
       "            </tr><tr>\n",
       "                <td>B07</td>\n",
       "                <td>rededge</td>\n",
       "                <td></td>\n",
       "                <td>int16</td>\n",
       "                <td>{&#39;min&#39;: 0.0, &#39;max&#39;: 10000.0}</td>\n",
       "                <td>0.0001</td>\n",
       "                <td>0.0</td>\n",
       "            </tr><tr>\n",
       "                <td>B08</td>\n",
       "                <td>nir</td>\n",
       "                <td></td>\n",
       "                <td>int16</td>\n",
       "                <td>{&#39;min&#39;: 0.0, &#39;max&#39;: 10000.0}</td>\n",
       "                <td>0.0001</td>\n",
       "                <td>0.0</td>\n",
       "            </tr><tr>\n",
       "                <td>B8A</td>\n",
       "                <td>nir08</td>\n",
       "                <td></td>\n",
       "                <td>int16</td>\n",
       "                <td>{&#39;min&#39;: 0.0, &#39;max&#39;: 10000.0}</td>\n",
       "                <td>0.0001</td>\n",
       "                <td>0.0</td>\n",
       "            </tr><tr>\n",
       "                <td>B09</td>\n",
       "                <td>nir09</td>\n",
       "                <td></td>\n",
       "                <td>int16</td>\n",
       "                <td>{&#39;min&#39;: 0.0, &#39;max&#39;: 10000.0}</td>\n",
       "                <td>0.0001</td>\n",
       "                <td>0.0</td>\n",
       "            </tr><tr>\n",
       "                <td>B11</td>\n",
       "                <td>swir16</td>\n",
       "                <td></td>\n",
       "                <td>int16</td>\n",
       "                <td>{&#39;min&#39;: 0.0, &#39;max&#39;: 10000.0}</td>\n",
       "                <td>0.0001</td>\n",
       "                <td>0.0</td>\n",
       "            </tr><tr>\n",
       "                <td>TOTALOB</td>\n",
       "                <td>TotalOb</td>\n",
       "                <td>Total Observation Count</td>\n",
       "                <td>uint8</td>\n",
       "                <td>{&#39;min&#39;: 1.0, &#39;max&#39;: 255.0}</td>\n",
       "                <td>1.0</td>\n",
       "                <td>0.0</td>\n",
       "            </tr><tr>\n",
       "                <td>PROVENANCE</td>\n",
       "                <td>Provenance</td>\n",
       "                <td>Provenance value Day of Year</td>\n",
       "                <td>int16</td>\n",
       "                <td>{&#39;min&#39;: 1.0, &#39;max&#39;: 366.0}</td>\n",
       "                <td>1.0</td>\n",
       "                <td>-1.0</td>\n",
       "            </tr>\n",
       "        </table>\n",
       "    </div>\n",
       "    </br>\n",
       "    <div>\n",
       "        <b>Extent</b>\n",
       "    </div>\n",
       "    <div>\n",
       "        <table>\n",
       "            <tr>\n",
       "                <th>xmin</th>\n",
       "                <th>ymin</th>\n",
       "                <th>xmax</th>\n",
       "                <th>ymax</th>\n",
       "            </tr>\n",
       "             <tr>\n",
       "                 <td>-74.871069</td>\n",
       "                 <td>-34.67556459214432</td>\n",
       "                 <td>-28.006208041654325</td>\n",
       "                 <td>5.763264005526926</td>\n",
       "             </tr>\n",
       "        </table>\n",
       "    </div>\n",
       "    <br/>\n",
       "    <div>\n",
       "        <b>Timeline</b>\n",
       "    </div>\n",
       "    <div>\n",
       "        <select id=\"timeline\" size=\"10\">\n",
       "        <option value=\"{d}\">2017-01-01</option><option value=\"{d}\">2017-01-17</option><option value=\"{d}\">2017-02-02</option><option value=\"{d}\">2017-02-18</option><option value=\"{d}\">2017-03-06</option><option value=\"{d}\">2017-03-22</option><option value=\"{d}\">2017-04-07</option><option value=\"{d}\">2017-04-23</option><option value=\"{d}\">2017-05-09</option><option value=\"{d}\">2017-05-25</option><option value=\"{d}\">2017-06-10</option><option value=\"{d}\">2017-06-26</option><option value=\"{d}\">2017-07-12</option><option value=\"{d}\">2017-07-28</option><option value=\"{d}\">2017-08-13</option><option value=\"{d}\">2017-08-29</option><option value=\"{d}\">2017-09-14</option><option value=\"{d}\">2017-09-30</option><option value=\"{d}\">2017-10-16</option><option value=\"{d}\">2017-11-01</option><option value=\"{d}\">2017-11-17</option><option value=\"{d}\">2017-12-03</option><option value=\"{d}\">2017-12-19</option><option value=\"{d}\">2018-01-01</option><option value=\"{d}\">2018-01-17</option><option value=\"{d}\">2018-02-02</option><option value=\"{d}\">2018-02-18</option><option value=\"{d}\">2018-03-06</option><option value=\"{d}\">2018-03-22</option><option value=\"{d}\">2018-04-07</option><option value=\"{d}\">2018-04-23</option><option value=\"{d}\">2018-05-09</option><option value=\"{d}\">2018-05-25</option><option value=\"{d}\">2018-06-10</option><option value=\"{d}\">2018-06-26</option><option value=\"{d}\">2018-07-12</option><option value=\"{d}\">2018-07-28</option><option value=\"{d}\">2018-08-13</option><option value=\"{d}\">2018-08-29</option><option value=\"{d}\">2018-09-14</option><option value=\"{d}\">2018-09-30</option><option value=\"{d}\">2018-10-16</option><option value=\"{d}\">2018-11-01</option><option value=\"{d}\">2018-11-17</option><option value=\"{d}\">2018-12-03</option><option value=\"{d}\">2018-12-19</option><option value=\"{d}\">2019-01-01</option><option value=\"{d}\">2019-01-17</option><option value=\"{d}\">2019-02-02</option><option value=\"{d}\">2019-02-18</option><option value=\"{d}\">2019-03-06</option><option value=\"{d}\">2019-03-22</option><option value=\"{d}\">2019-04-07</option><option value=\"{d}\">2019-04-23</option><option value=\"{d}\">2019-05-09</option><option value=\"{d}\">2019-05-25</option><option value=\"{d}\">2019-06-10</option><option value=\"{d}\">2019-06-26</option><option value=\"{d}\">2019-07-12</option><option value=\"{d}\">2019-07-28</option><option value=\"{d}\">2019-08-13</option><option value=\"{d}\">2019-08-29</option><option value=\"{d}\">2019-09-14</option><option value=\"{d}\">2019-09-30</option><option value=\"{d}\">2019-10-16</option><option value=\"{d}\">2019-11-01</option><option value=\"{d}\">2019-11-17</option><option value=\"{d}\">2019-12-03</option><option value=\"{d}\">2019-12-19</option><option value=\"{d}\">2020-01-01</option><option value=\"{d}\">2020-01-17</option><option value=\"{d}\">2020-02-02</option><option value=\"{d}\">2020-02-18</option><option value=\"{d}\">2020-03-05</option><option value=\"{d}\">2020-03-21</option><option value=\"{d}\">2020-04-06</option><option value=\"{d}\">2020-04-22</option><option value=\"{d}\">2020-05-08</option><option value=\"{d}\">2020-05-24</option><option value=\"{d}\">2020-06-09</option><option value=\"{d}\">2020-06-25</option><option value=\"{d}\">2020-07-11</option><option value=\"{d}\">2020-07-27</option><option value=\"{d}\">2020-08-12</option><option value=\"{d}\">2020-08-28</option><option value=\"{d}\">2020-09-13</option><option value=\"{d}\">2020-09-29</option><option value=\"{d}\">2020-10-15</option><option value=\"{d}\">2020-10-31</option><option value=\"{d}\">2020-11-16</option><option value=\"{d}\">2020-12-02</option><option value=\"{d}\">2020-12-18</option><option value=\"{d}\">2021-01-01</option><option value=\"{d}\">2021-01-17</option><option value=\"{d}\">2021-02-02</option><option value=\"{d}\">2021-02-18</option><option value=\"{d}\">2021-03-06</option><option value=\"{d}\">2021-03-22</option><option value=\"{d}\">2021-04-07</option><option value=\"{d}\">2021-04-23</option><option value=\"{d}\">2021-05-09</option><option value=\"{d}\">2021-05-25</option><option value=\"{d}\">2021-06-10</option><option value=\"{d}\">2021-06-26</option><option value=\"{d}\">2021-07-12</option><option value=\"{d}\">2021-07-28</option><option value=\"{d}\">2021-08-13</option><option value=\"{d}\">2021-08-29</option><option value=\"{d}\">2021-09-14</option><option value=\"{d}\">2021-09-30</option><option value=\"{d}\">2021-10-16</option><option value=\"{d}\">2021-11-01</option><option value=\"{d}\">2021-11-17</option><option value=\"{d}\">2021-12-03</option><option value=\"{d}\">2021-12-19</option><option value=\"{d}\">2022-01-01</option><option value=\"{d}\">2022-01-17</option><option value=\"{d}\">2022-02-02</option><option value=\"{d}\">2022-02-18</option><option value=\"{d}\">2022-03-06</option><option value=\"{d}\">2022-03-22</option><option value=\"{d}\">2022-04-07</option><option value=\"{d}\">2022-04-23</option><option value=\"{d}\">2022-05-09</option><option value=\"{d}\">2022-05-25</option><option value=\"{d}\">2022-06-10</option><option value=\"{d}\">2022-06-26</option><option value=\"{d}\">2022-07-12</option><option value=\"{d}\">2022-07-28</option><option value=\"{d}\">2022-08-13</option><option value=\"{d}\">2022-08-29</option><option value=\"{d}\">2022-09-14</option><option value=\"{d}\">2022-09-30</option>\n",
       "        </select>\n",
       "    </div>\n",
       "</div>"
      ],
      "text/plain": []
     },
     "execution_count": 12,
     "metadata": {},
     "output_type": "execute_result"
    }
   ],
   "source": [
    "service_WTSS[satelite] "
   ]
  },
  {
   "cell_type": "markdown",
   "id": "099334fe",
   "metadata": {},
   "source": [
    "Then you can search for the features you want"
   ]
  },
  {
   "cell_type": "code",
   "execution_count": 13,
   "id": "d6e4294b",
   "metadata": {},
   "outputs": [],
   "source": [
    "bbox = (-50.5600,-11.0600,-50.4500,-10.9600)   #localização a utilizar"
   ]
  },
  {
   "cell_type": "code",
   "execution_count": 14,
   "id": "74798a35",
   "metadata": {},
   "outputs": [
    {
     "data": {
      "text/plain": [
       "9"
      ]
     },
     "execution_count": 14,
     "metadata": {},
     "output_type": "execute_result"
    }
   ],
   "source": [
    "service_STAC.get_collection(satelite).get_items()  \n",
    "\n",
    "item_search = service_STAC.search(bbox=bbox,\n",
    "                             datetime='2021-04-01/2021-07-30',\n",
    "                             collections=[satelite])\n",
    "\n",
    "item_search.matched() #numero de ficheiros de informação disponiveis com estas defenições\n",
    "\n",
    "#bbox = dimensoes do quadrado de pesquisa a obter em conjunto com o mapa do BDC\n",
    "#datetime = linha temporal pertendida a obter os ficheiros de informação\n",
    "#collections= satelite que ira fornecer a informação"
   ]
  },
  {
   "cell_type": "code",
   "execution_count": 15,
   "id": "47c182e6",
   "metadata": {},
   "outputs": [
    {
     "name": "stdout",
     "output_type": "stream",
     "text": [
      "[0].  <Item id=S2-16D_V2_026017_20210728>\n",
      "[1].  <Item id=S2-16D_V2_026017_20210712>\n",
      "[2].  <Item id=S2-16D_V2_026017_20210626>\n",
      "[3].  <Item id=S2-16D_V2_026017_20210610>\n",
      "[4].  <Item id=S2-16D_V2_026017_20210525>\n",
      "[5].  <Item id=S2-16D_V2_026017_20210509>\n",
      "[6].  <Item id=S2-16D_V2_026017_20210423>\n",
      "[7].  <Item id=S2-16D_V2_026017_20210407>\n",
      "[8].  <Item id=S2-16D_V2_026017_20210322>\n"
     ]
    }
   ],
   "source": [
    "counter = 0\n",
    "for item in item_search.get_items():    #listagem de ficheiros de informação disponiveis \n",
    "    print(f\"[{counter}].  {item}\")\n",
    "    counter += 1"
   ]
  },
  {
   "cell_type": "code",
   "execution_count": 16,
   "id": "182e6846",
   "metadata": {},
   "outputs": [],
   "source": [
    "items = list(item_search.get_items()) # We only connect to the WTSS service because the API for listing available bands"
   ]
  },
  {
   "cell_type": "code",
   "execution_count": 17,
   "id": "b1328b52",
   "metadata": {},
   "outputs": [],
   "source": [
    "first_item = items[8]               #Choosing the images to use \n",
    "midle_item = items[4]\n",
    "second_item = items[0]"
   ]
  },
  {
   "cell_type": "markdown",
   "id": "e7f4457a",
   "metadata": {},
   "source": [
    "Read the necessary bands for NBR and for RGB plots"
   ]
  },
  {
   "cell_type": "code",
   "execution_count": 18,
   "id": "35690ea9",
   "metadata": {},
   "outputs": [],
   "source": [
    "red_first = read(first_item.assets['B04'].href, bbox=bbox)\n",
    "green_first = read(first_item.assets['B03'].href, bbox=bbox)\n",
    "blue_first = read(first_item.assets['B02'].href, bbox=bbox)"
   ]
  },
  {
   "cell_type": "code",
   "execution_count": null,
   "id": "3b1b5228",
   "metadata": {},
   "outputs": [],
   "source": [
    "red_second = read(second_item.assets['B04'].href, bbox=bbox)\n",
    "green_second = read(second_item.assets['B03'].href, bbox=bbox)\n",
    "blue_second = read(second_item.assets['B02'].href, bbox=bbox)"
   ]
  },
  {
   "cell_type": "code",
   "execution_count": null,
   "id": "63334f3e",
   "metadata": {},
   "outputs": [],
   "source": [
    "NIR_first_image = read(first_item.assets['B08'].href, bbox=bbox)      \n",
    "NIR_midle_image = read(midle_item.assets['B08'].href, bbox=bbox)\n",
    "NIR_second_image = read(second_item.assets['B08'].href, bbox=bbox)"
   ]
  },
  {
   "cell_type": "code",
   "execution_count": null,
   "id": "6288581c",
   "metadata": {},
   "outputs": [],
   "source": [
    "SWIR_first_image = read(first_item.assets['B12'].href, bbox=bbox)    \n",
    "SWIR_midle_image = read(midle_item.assets['B12'].href, bbox=bbox)\n",
    "SWIR_second_image = read(second_item.assets['B12'].href, bbox=bbox)"
   ]
  },
  {
   "cell_type": "markdown",
   "id": "68fe37f9",
   "metadata": {},
   "source": [
    "## Calculate the NBR for all desired datasets \n",
    "\n",
    "\n"
   ]
  },
  {
   "cell_type": "markdown",
   "id": "b451dbd9",
   "metadata": {},
   "source": [
    "$$\n",
    "NBR = \\frac{(NIR - SWIR)}{(NIR + SWIR)}\n",
    "$$\n",
    "$$\n",
    "$$\n",
    "<center><b>Equation 1</b> - SWIR.</center>"
   ]
  },
  {
   "cell_type": "code",
   "execution_count": null,
   "id": "cb72e6c0",
   "metadata": {},
   "outputs": [],
   "source": [
    "NBR_first=(NIR_first_image-SWIR_first_image)/(NIR_first_image+SWIR_first_image)\n",
    "NBR_midle=(NIR_midle_image-SWIR_midle_image)/(NIR_midle_image+SWIR_midle_image)\n",
    "NBR_second=(NIR_second_image-SWIR_second_image)/(NIR_second_image+SWIR_second_image)\n",
    "\n",
    "\n",
    "NBR_diff =  NBR_second - NBR_first"
   ]
  },
  {
   "cell_type": "markdown",
   "id": "25184450",
   "metadata": {},
   "source": [
    "Now we can plot all the diferent tiles "
   ]
  },
  {
   "cell_type": "code",
   "execution_count": null,
   "id": "2b678ed5",
   "metadata": {},
   "outputs": [],
   "source": [
    "fig, (ax1, ax2) = plt.subplots(1,2, figsize=(12, 10))\n",
    "\n",
    "ax1.imshow(NBR_first, cmap='RdBu')\n",
    "ax1.set_title('NBR before the fire')\n",
    "\n",
    "ax2.imshow(NBR_midle, cmap='RdBu')\n",
    "ax2.set_title('NBR midle of the Fire')"
   ]
  },
  {
   "cell_type": "code",
   "execution_count": null,
   "id": "a6039fa2",
   "metadata": {},
   "outputs": [],
   "source": [
    "fig, (ax1, ax2) = plt.subplots(1,2, figsize=(12, 10))\n",
    "\n",
    "ax1.imshow(NBR_second, cmap='RdBu')\n",
    "ax1.set_title('NBR Post Fire')\n",
    "\n",
    "im = ax2.imshow(NBR_diff, cmap='RdBu', vmin=-1, vmax=1)\n",
    "ax2.set_title('Consumed Area')"
   ]
  },
  {
   "cell_type": "markdown",
   "id": "dd7c10ff",
   "metadata": {},
   "source": [
    "In the images we can see the effects of the fire in the region and we can assume that the red area `NBR Post Fire` is the burned area."
   ]
  },
  {
   "cell_type": "code",
   "execution_count": null,
   "id": "25efa847",
   "metadata": {},
   "outputs": [],
   "source": [
    "fig, ax = plt.subplots(figsize=(12, 1))\n",
    "fig.subplots_adjust(bottom=0.5, top=1)  \n",
    "\n",
    "\n",
    "cbar = fig.colorbar(im, ax, orientation='horizontal')\n",
    "cbar.set_label('NBR Value')\n",
    "\n",
    "ax.text(0, -0.7, 'Vegetação Queimada', ha='center', va='top', transform=ax.transAxes, fontsize=12)\n",
    "ax.text(1, -0.7, 'Vegetação Saudável', ha='center', va='top', transform=ax.transAxes, fontsize=12)"
   ]
  },
  {
   "cell_type": "markdown",
   "id": "92c252b8",
   "metadata": {},
   "source": [
    "Then we can plot the rgb images "
   ]
  },
  {
   "cell_type": "code",
   "execution_count": null,
   "id": "a4b73eae",
   "metadata": {},
   "outputs": [],
   "source": [
    "red_first = normalize(red_first)\n",
    "green_first = normalize(green_first)\n",
    "blue_first = normalize(blue_first)\n",
    "\n",
    "rgb_first  = numpy.dstack((red_first, green_first, blue_first))\n",
    "\n",
    "\n",
    " \n",
    "fig, ax = plt.subplots(figsize=(12, 10))\n",
    "ax.set_title('Imagem RGB pré fogo Normalizada')\n",
    "ax.imshow(rgb_first)\n",
    "\n"
   ]
  },
  {
   "cell_type": "code",
   "execution_count": null,
   "id": "a7d04000",
   "metadata": {},
   "outputs": [],
   "source": [
    "red_second = normalize(red_second)\n",
    "green_second = normalize(green_second)\n",
    "blue_second = normalize(blue_second)\n",
    "\n",
    "rgb_second = numpy.dstack((red_second, green_second, blue_second))\n",
    "\n",
    "fig, ax2 = plt.subplots(figsize=(12, 10))\n",
    "ax2.set_title('Imagem RGB pos fogo Normalizada')\n",
    "ax2.imshow(rgb_second)\n",
    "\n"
   ]
  },
  {
   "cell_type": "code",
   "execution_count": null,
   "id": "f900742b",
   "metadata": {},
   "outputs": [],
   "source": []
  }
 ],
 "metadata": {
  "kernelspec": {
   "display_name": "Python 3 (ipykernel)",
   "language": "python",
   "name": "python3"
  },
  "language_info": {
   "codemirror_mode": {
    "name": "ipython",
    "version": 3
   },
   "file_extension": ".py",
   "mimetype": "text/x-python",
   "name": "python",
   "nbconvert_exporter": "python",
   "pygments_lexer": "ipython3",
   "version": "3.10.12"
  }
 },
 "nbformat": 4,
 "nbformat_minor": 5
}
